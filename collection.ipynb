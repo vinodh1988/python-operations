{
 "cells": [
  {
   "cell_type": "code",
   "execution_count": null,
   "metadata": {},
   "outputs": [],
   "source": [
    "# there are four major kinds of collections used in python\n",
    "# 1. List \n",
    "\"\"\"\n",
    "    List is a linear collection of elements\n",
    "    list elements are declared within []\n",
    "    List is mutable (modify the values)\n",
    "    List elements are accessed by using index\n",
    "    We can elements in the last in the middle anywhere and delete also in the same way\n",
    "    List can have duplicates\n",
    "    List can None as value  \n",
    "    Unlike other language a list is not homogeneous , it is collection of any kind of object\n",
    "\"\"\"\n",
    "#2. tuple\n",
    "#3. Set\n",
    "#4. Dictionary"
   ]
  },
  {
   "cell_type": "code",
   "execution_count": null,
   "metadata": {},
   "outputs": [],
   "source": []
  },
  {
   "cell_type": "code",
   "execution_count": null,
   "metadata": {},
   "outputs": [],
   "source": []
  },
  {
   "cell_type": "code",
   "execution_count": 8,
   "metadata": {},
   "outputs": [
    {
     "name": "stdout",
     "output_type": "stream",
     "text": [
      "['Arun', 'Ajay', 'Jackson', 'Roger', 'Nilesh', 'Vinay']\n",
      "Jackson\n",
      "['Arun', 'Rakesh', 'Jackson', 'Roger', 'Nilesh', 'Vinay']\n",
      "['Arun', 'Rakesh', 'Jackson', 'Roger', 'Nilesh', 'Vinay', 'Harry']\n",
      "['Arun', 'Rakesh', 'Jackson', 'Roger', 'Nilesh', 'Vinay', 'Harry', 'Joseph', 'Rohan', 'Nakul']\n",
      "['Arun', 'Rakesh', 'Jackson', 'Nagesh', 'Roger', 'Nilesh', 'Vinay', 'Harry', 'Joseph', 'Rohan', 'Nakul']\n",
      "['Arun', 'Rakesh', 'Nagesh', 'Roger', 'Nilesh', 'Vinay', 'Harry', 'Joseph', 'Rohan', 'Nakul']\n"
     ]
    }
   ],
   "source": [
    "people=[\"Arun\",\"Ajay\",\"Jackson\",\"Roger\",\"Nilesh\",\"Vinay\"]\n",
    "print(people)\n",
    "print(people[2])\n",
    "people[1]=\"Rakesh\"\n",
    "print(people)\n",
    "people.append(\"Harry\")\n",
    "print(people)\n",
    "people.extend([\"Joseph\",\"Rohan\",\"Nakul\"])\n",
    "print(people)\n",
    "people.insert(3,\"Nagesh\")\n",
    "print(people)\n",
    "del people[2]\n",
    "print(people)"
   ]
  },
  {
   "cell_type": "code",
   "execution_count": 17,
   "metadata": {},
   "outputs": [
    {
     "name": "stdout",
     "output_type": "stream",
     "text": [
      "6745\n",
      "[435, 6745, 367, 456]\n",
      "[6745, 367, 456, 346, 326]\n",
      "[53, 45, 6745, 456, 326, 46, 67, 356]\n",
      "[53, 435, 456, 205, 67, 46]\n",
      "[46, 205, 326, 346, 456, 367, 6745, 435, 45, 6436]\n",
      "[46, 326, 456, 6745, 45]\n",
      "[46, 356, 477, 67, 24, 46, 205, 326, 346, 456, 367, 6745, 435, 45, 6436, 53]\n"
     ]
    }
   ],
   "source": [
    "numbers=[53,6436,45,435,6745,367,456,346,326,205,46,24,67,477,356,46]\n",
    "print(numbers[4])\n",
    "print(numbers[3:7])\n",
    "print(numbers[4:9])\n",
    "print(numbers[0:len(numbers):2])\n",
    "print(numbers[0:len(numbers):3])\n",
    "print(numbers[10:0:-1])\n",
    "print(numbers[10:0:-2])\n",
    "print(numbers[::-1])"
   ]
  },
  {
   "cell_type": "code",
   "execution_count": 24,
   "metadata": {},
   "outputs": [
    {
     "name": "stdout",
     "output_type": "stream",
     "text": [
      "53 6436 45 435 6745 367 456 346 326 205 46 24 67 477 356 46 \n",
      " sum:16430\n",
      "\n",
      " Largest: 6745\n"
     ]
    }
   ],
   "source": [
    "for x in numbers:\n",
    "    print(x,end=\" \")\n",
    "sum=0\n",
    "largest=0\n",
    "for x in numbers:\n",
    "    sum+=x\n",
    "    if(x>largest):\n",
    "        largest=x\n",
    "print(f\"\\n sum:{sum}\")\n",
    "print(f\"\\n Largest: {largest}\")"
   ]
  },
  {
   "cell_type": "code",
   "execution_count": 27,
   "metadata": {},
   "outputs": [
    {
     "name": "stdout",
     "output_type": "stream",
     "text": [
      "Location available for Job\n"
     ]
    }
   ],
   "source": [
    "city=input(\"City(First letter caps other letters small):\")\n",
    "if city in ('Hyderabad','Chennai','Mumbai'):\n",
    "    print(\"Location available for Job\")\n",
    "else:\n",
    "    print(\"This location is not available\")"
   ]
  },
  {
   "cell_type": "code",
   "execution_count": null,
   "metadata": {},
   "outputs": [],
   "source": []
  }
 ],
 "metadata": {
  "kernelspec": {
   "display_name": "Python 3",
   "language": "python",
   "name": "python3"
  },
  "language_info": {
   "codemirror_mode": {
    "name": "ipython",
    "version": 3
   },
   "file_extension": ".py",
   "mimetype": "text/x-python",
   "name": "python",
   "nbconvert_exporter": "python",
   "pygments_lexer": "ipython3",
   "version": "3.11.2"
  }
 },
 "nbformat": 4,
 "nbformat_minor": 2
}
