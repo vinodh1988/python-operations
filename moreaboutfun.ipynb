{
 "cells": [
  {
   "cell_type": "code",
   "execution_count": 12,
   "metadata": {},
   "outputs": [
    {
     "name": "stdout",
     "output_type": "stream",
     "text": [
      "[667, 367, 3677, 349, 699, 933, 89, 83]\n",
      "[34, 34, 89, 80, 83]\n",
      "[349, 699, 89]\n",
      "[366, 390, 699, 933]\n",
      "[3677, 2006]\n"
     ]
    }
   ],
   "source": [
    "listx=[34,536,34,366,346,634,634,667,367,3677,349,390,2006,699,933,89,80,83]\n",
    "\n",
    "def filterOdd(x):\n",
    "    if(x%2)!=0:\n",
    "        return True\n",
    "    return False\n",
    "\n",
    "def filter2Digit(x):\n",
    "    return True if x>=10 and x<=99 else False\n",
    "\n",
    "def filterEnds9(x):\n",
    "    return True if x%10==9 else False\n",
    "\n",
    "filterDiv3=lambda x: True if x%3==0 else False\n",
    "\n",
    "print(list(filter(filterOdd,listx)))\n",
    "print(list(filter(filter2Digit,listx)))\n",
    "print(list(filter(filterEnds9,listx)))\n",
    "print(list(filter(filterDiv3,listx)))\n",
    "print(list(filter(lambda x: True if x>1000 else False,listx)))"
   ]
  },
  {
   "cell_type": "code",
   "execution_count": 10,
   "metadata": {},
   "outputs": [
    {
     "name": "stdout",
     "output_type": "stream",
     "text": [
      "Hello!!!Raj\n",
      "Hello!!!Raj\n"
     ]
    }
   ],
   "source": [
    "\n",
    "def sample(name):\n",
    "\treturn f\"Hello!!!{name}\"\n",
    "\t\n",
    "print(sample(\"Raj\"))\n",
    "\n",
    "#output:  Hello!!!Raj\n",
    "\n",
    "\n",
    "greet=lambda name: f\"Hello!!!{name}\"\n",
    "\n",
    "print(greet(\"Raj\"))\n",
    "\n",
    "#output: Hello!!! Raj"
   ]
  },
  {
   "cell_type": "code",
   "execution_count": 21,
   "metadata": {},
   "outputs": [
    {
     "name": "stdout",
     "output_type": "stream",
     "text": [
      "('NAVEEN', 'RAMESH', 'NARESH', 'RAKESH', 'ROHAN')\n",
      "('Hello!Naveen', 'Hello!Ramesh', 'Hello!Naresh', 'Hello!Rakesh', 'Hello!Rohan')\n",
      "('length of Naveen is 6', 'length of Ramesh is 6', 'length of Naresh is 6', 'length of Rakesh is 6', 'length of Rohan is 5')\n"
     ]
    }
   ],
   "source": [
    "listx=[\"Naveen\",\"Ramesh\",\"Naresh\",\"Rakesh\",\"Rohan\"]\n",
    "def transform(x):\n",
    "    return f\"length of {x} is {len(x)}\"\n",
    "print(tuple(map(lambda x: x.upper(),listx)))\n",
    "print(tuple(map(lambda x:f\"Hello!{x}\",listx)))\n",
    "print(tuple(map(transform,listx)))"
   ]
  }
 ],
 "metadata": {
  "kernelspec": {
   "display_name": "Python 3",
   "language": "python",
   "name": "python3"
  },
  "language_info": {
   "codemirror_mode": {
    "name": "ipython",
    "version": 3
   },
   "file_extension": ".py",
   "mimetype": "text/x-python",
   "name": "python",
   "nbconvert_exporter": "python",
   "pygments_lexer": "ipython3",
   "version": "3.11.2"
  }
 },
 "nbformat": 4,
 "nbformat_minor": 2
}
