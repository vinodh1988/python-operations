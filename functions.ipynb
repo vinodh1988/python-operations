{
 "cells": [
  {
   "cell_type": "code",
   "execution_count": 3,
   "metadata": {},
   "outputs": [],
   "source": [
    "def sayHi(name):\n",
    "    print(f\"Hello!! {name}\")\n",
    "\n",
    "def greet(name):\n",
    "    return f\"Hello {name}\""
   ]
  },
  {
   "cell_type": "code",
   "execution_count": 4,
   "metadata": {},
   "outputs": [
    {
     "name": "stdout",
     "output_type": "stream",
     "text": [
      "Hello!! Varun\n",
      "Hello Naresh\n"
     ]
    }
   ],
   "source": [
    "sayHi(\"Varun\")\n",
    "print(greet(\"Naresh\"))"
   ]
  },
  {
   "cell_type": "code",
   "execution_count": 5,
   "metadata": {},
   "outputs": [
    {
     "name": "stdout",
     "output_type": "stream",
     "text": [
      "8\n",
      "15\n"
     ]
    }
   ],
   "source": [
    "def add(a,b):\n",
    "    return a+b\n",
    "\n",
    "def arithmetic(a,b,operation):\n",
    "    match operation:\n",
    "        case \"add\":\n",
    "            return a+b\n",
    "        case \"minus\":\n",
    "            return a-b\n",
    "        case  \"multiply\":\n",
    "            return a*b\n",
    "        case  \"divide\":\n",
    "            return a/b\n",
    "        \n",
    "print(add(3,5))\n",
    "print(arithmetic(3,5,\"multiply\"))"
   ]
  }
 ],
 "metadata": {
  "kernelspec": {
   "display_name": "Python 3",
   "language": "python",
   "name": "python3"
  },
  "language_info": {
   "codemirror_mode": {
    "name": "ipython",
    "version": 3
   },
   "file_extension": ".py",
   "mimetype": "text/x-python",
   "name": "python",
   "nbconvert_exporter": "python",
   "pygments_lexer": "ipython3",
   "version": "3.11.2"
  }
 },
 "nbformat": 4,
 "nbformat_minor": 2
}
