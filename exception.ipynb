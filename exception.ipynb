{
 "cells": [
  {
   "cell_type": "code",
   "execution_count": 8,
   "metadata": {},
   "outputs": [
    {
     "name": "stdout",
     "output_type": "stream",
     "text": [
      "6.0\n",
      "Success logic\n",
      "Mandatory logic\n"
     ]
    }
   ],
   "source": [
    "try:\n",
    "    a=int(input(\"number:\"))\n",
    "    b=int(input(\"number:\"))\n",
    "    print(a/b)\n",
    "except ValueError as e:\n",
    "    print(\"Numbers only allowed, you have not entered number\")\n",
    "except Exception as e:\n",
    "    print(e)\n",
    "else:\n",
    "    print(\"Success logic\")\n",
    "finally:\n",
    "    print(\"Mandatory logic\")"
   ]
  },
  {
   "cell_type": "code",
   "execution_count": null,
   "metadata": {},
   "outputs": [],
   "source": []
  }
 ],
 "metadata": {
  "kernelspec": {
   "display_name": "Python 3",
   "language": "python",
   "name": "python3"
  },
  "language_info": {
   "codemirror_mode": {
    "name": "ipython",
    "version": 3
   },
   "file_extension": ".py",
   "mimetype": "text/x-python",
   "name": "python",
   "nbconvert_exporter": "python",
   "pygments_lexer": "ipython3",
   "version": "3.11.2"
  }
 },
 "nbformat": 4,
 "nbformat_minor": 2
}
