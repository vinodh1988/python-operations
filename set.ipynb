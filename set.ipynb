{
 "cells": [
  {
   "cell_type": "code",
   "execution_count": null,
   "metadata": {},
   "outputs": [],
   "source": [
    "#Set\n",
    "#Set is a collection that holds only unique elements\n",
    "#Duplicates are not maintained in a set\n",
    "#Set is unordered (elements will arranged in random order)\n",
    "#Adding elements in the set is possible but we cannot put in specified index\n",
    "#reading based on index is not possible"
   ]
  },
  {
   "cell_type": "code",
   "execution_count": 3,
   "metadata": {},
   "outputs": [
    {
     "name": "stdout",
     "output_type": "stream",
     "text": [
      "{34, 44, 368, 563, 56, 58, 380, 63}\n",
      "{34, 44, 368, 563, 56, 58, 380, 349, 63}\n"
     ]
    }
   ],
   "source": [
    "set = {44,63,563,34,56,44,44,380,34,56,368,63,58}\n",
    "\n",
    "print(set)\n",
    "#print(set[3])\n",
    "set.add(349)\n",
    "print(set)\n"
   ]
  },
  {
   "cell_type": "code",
   "execution_count": 4,
   "metadata": {},
   "outputs": [
    {
     "name": "stdout",
     "output_type": "stream",
     "text": [
      "34\n",
      "44\n",
      "368\n",
      "563\n",
      "56\n",
      "58\n",
      "380\n",
      "349\n",
      "63\n"
     ]
    }
   ],
   "source": [
    "for x in set:\n",
    "    print(x)"
   ]
  }
 ],
 "metadata": {
  "kernelspec": {
   "display_name": "Python 3",
   "language": "python",
   "name": "python3"
  },
  "language_info": {
   "codemirror_mode": {
    "name": "ipython",
    "version": 3
   },
   "file_extension": ".py",
   "mimetype": "text/x-python",
   "name": "python",
   "nbconvert_exporter": "python",
   "pygments_lexer": "ipython3",
   "version": "3.11.2"
  }
 },
 "nbformat": 4,
 "nbformat_minor": 2
}
