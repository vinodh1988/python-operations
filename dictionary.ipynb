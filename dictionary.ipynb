{
 "cells": [
  {
   "cell_type": "code",
   "execution_count": null,
   "metadata": {},
   "outputs": [],
   "source": [
    "# Dictionary is a key Value Pair\n",
    "# Key must be unique, even if you try duplicate it only the last version would be maintained\n",
    "# values are associated with key and hence duplication would be there\n",
    "\n",
    "# We access Dictionary with the help of keys"
   ]
  },
  {
   "cell_type": "code",
   "execution_count": 1,
   "metadata": {},
   "outputs": [
    {
     "name": "stdout",
     "output_type": "stream",
     "text": [
      "Toshiba\n",
      "{'brand': 'Toshiba', 'type': 'Laptop', 'price': 34340.0, 'CPU': 'Intel I7', 'RAM': '4gb', 'keyboard': 'Logitech'}\n"
     ]
    }
   ],
   "source": [
    "computer = {\"brand\": \"Toshiba\", \"type\":\"Laptop\", \"price\":34340.00 ,\"CPU\":\"Intel I7\"\n",
    "            ,\"RAM\":\"4gb\"}\n",
    "\n",
    "print(computer[\"brand\"])\n",
    "\n",
    "computer[\"keyboard\"]=\"Logitech\"\n",
    "\n",
    "print(computer)"
   ]
  },
  {
   "cell_type": "code",
   "execution_count": 2,
   "metadata": {},
   "outputs": [
    {
     "name": "stdout",
     "output_type": "stream",
     "text": [
      "brand->Toshiba\n",
      "type->Laptop\n",
      "price->34340.0\n",
      "CPU->Intel I7\n",
      "RAM->4gb\n",
      "keyboard->Logitech\n"
     ]
    }
   ],
   "source": [
    "for key,value in computer.items():\n",
    "    print(f\"{key}->{value}\")"
   ]
  },
  {
   "cell_type": "code",
   "execution_count": null,
   "metadata": {},
   "outputs": [],
   "source": []
  }
 ],
 "metadata": {
  "kernelspec": {
   "display_name": "Python 3",
   "language": "python",
   "name": "python3"
  },
  "language_info": {
   "codemirror_mode": {
    "name": "ipython",
    "version": 3
   },
   "file_extension": ".py",
   "mimetype": "text/x-python",
   "name": "python",
   "nbconvert_exporter": "python",
   "pygments_lexer": "ipython3",
   "version": "3.11.2"
  }
 },
 "nbformat": 4,
 "nbformat_minor": 2
}
