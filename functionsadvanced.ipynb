{
 "cells": [
  {
   "cell_type": "code",
   "execution_count": 2,
   "metadata": {},
   "outputs": [
    {
     "name": "stdout",
     "output_type": "stream",
     "text": [
      "processing  Testing application\n"
     ]
    }
   ],
   "source": [
    "def original(data):\n",
    "    print(\"processing \",data)\n",
    "\n",
    "reffun=original # in python a variable can hold a funciton\n",
    "\n",
    "reffun(\"Testing application\") # original will be called"
   ]
  },
  {
   "cell_type": "code",
   "execution_count": 5,
   "metadata": {},
   "outputs": [
    {
     "name": "stdout",
     "output_type": "stream",
     "text": [
      "Meow!!!\n",
      "Pom.........................\n"
     ]
    }
   ],
   "source": [
    "def  catSound():\n",
    "    return \"Meow!!!\"\n",
    "\n",
    "def  vanSound():\n",
    "    return \"Drrrrrrrrrrrr!!!\"\n",
    "\n",
    "def  hornSound():\n",
    "    return \"Pom.........................\"\n",
    "\n",
    "listfuns=[catSound,vanSound,hornSound]\n",
    "print(listfuns[0]())\n",
    "print(listfuns[2]())"
   ]
  }
 ],
 "metadata": {
  "kernelspec": {
   "display_name": "Python 3",
   "language": "python",
   "name": "python3"
  },
  "language_info": {
   "codemirror_mode": {
    "name": "ipython",
    "version": 3
   },
   "file_extension": ".py",
   "mimetype": "text/x-python",
   "name": "python",
   "nbconvert_exporter": "python",
   "pygments_lexer": "ipython3",
   "version": "3.11.2"
  }
 },
 "nbformat": 4,
 "nbformat_minor": 2
}
