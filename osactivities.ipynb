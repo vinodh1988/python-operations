{
 "cells": [
  {
   "cell_type": "markdown",
   "metadata": {},
   "source": []
  },
  {
   "cell_type": "code",
   "execution_count": 5,
   "metadata": {},
   "outputs": [
    {
     "name": "stdout",
     "output_type": "stream",
     "text": [
      "8\n",
      "c:\\Users\\vinodh\\AppData\\Local\\Programs\\Python\\Python311;c:\\Users\\vinodh\\AppData\\Roaming\\Python\\Python311\\Scripts;C:\\Program Files (x86)\\Microsoft SDKs\\Azure\\CLI2\\wbin;C:\\Program Files\\Common Files\\Oracle\\Java\\javapath;C:\\Windows\\system32;C:\\Windows;C:\\Windows\\System32\\Wbem;C:\\Windows\\System32\\WindowsPowerShell\\v1.0\\;C:\\Windows\\System32\\OpenSSH\\;C:\\Program Files\\MySQL\\MySQL Server 8.0\\bin;C:\\Program Files (x86)\\Bitvise SSH Client;C:\\Program Files\\Microsoft SQL Server\\130\\Tools\\Binn\\;C:\\Program Files\\Git\\cmd;C:\\Program Files\\MongoDB\\Server\\5.0\\bin;C:\\Users\\vinodh\\AppData\\Local\\Android\\Sdk\\platform-tools;C:\\Program Files\\Amazon\\AWSCLIV2\\;C:\\Users\\vinodh\\AppData\\Local\\Programs\\Python\\Python311\\Scripts;C:\\Users\\vinodh\\AppData\\Local\\Programs\\Python\\Python311;C:\\Program Files (x86)\\Microsoft SQL Server\\160\\DTS\\Binn\\;C:\\Program Files\\Azure Data Studio\\bin;C:\\Program Files\\Microsoft SQL Server\\Client SDK\\ODBC\\170\\Tools\\Binn\\;C:\\Program Files (x86)\\Microsoft SQL Server\\150\\Tools\\Binn\\;C:\\Program Files\\Microsoft SQL Server\\150\\Tools\\Binn\\;C:\\Program Files\\Microsoft SQL Server\\150\\DTS\\Binn\\;e:\\pdfkit;C:\\Program Files\\nodejs\\;C:\\Users\\vinodh\\AppData\\Local\\Coursier\\data\\bin;E:\\spark-3.5.1-bin-hadoop3\\bin;e:\\robotlibraries;C:\\Program Files\\MySQL\\MySQL Shell 8.0\\bin\\;C:\\Users\\vinodh\\AppData\\Local\\Microsoft\\WindowsApps;C:\\Users\\vinodh\\AppData\\Local\\Programs\\Microsoft VS Code\\bin;C:\\Program Files\\Azure Data Studio\\bin;C:\\Users\\vinodh\\AppData\\Roaming\\npm;;C:\\Users\\vinodh\\AppData\\Local\\Coursier\\data\\bin;C:\\Program Files (x86)\\Microsoft SDKs\\Azure\\CLI2\\wbin;C:\\Program Files\\Common Files\\Oracle\\Java\\javapath;C:\\Windows\\system32;C:\\Windows;C:\\Windows\\System32\\Wbem;C:\\Windows\\System32\\WindowsPowerShell\\v1.0\\;C:\\Windows\\System32\\OpenSSH\\;C:\\Program Files\\MySQL\\MySQL Server 8.0\\bin;C:\\Program Files (x86)\\Bitvise SSH Client;C:\\Program Files\\Microsoft SQL Server\\130\\Tools\\Binn\\;C:\\Program Files\\Git\\cmd;C:\\Program Files\\MongoDB\\Server\\5.0\\bin;C:\\Users\\vinodh\\AppData\\Local\\Android\\Sdk\\platform-tools;C:\\Program Files\\Amazon\\AWSCLIV2\\;C:\\Users\\vinodh\\AppData\\Local\\Programs\\Python\\Python311\\Scripts;C:\\Users\\vinodh\\AppData\\Local\\Programs\\Python\\Python311;C:\\Program Files (x86)\\Microsoft SQL Server\\160\\DTS\\Binn\\;C:\\Program Files\\Azure Data Studio\\bin;C:\\Program Files\\Microsoft SQL Server\\Client SDK\\ODBC\\170\\Tools\\Binn\\;C:\\Program Files (x86)\\Microsoft SQL Server\\150\\Tools\\Binn\\;C:\\Program Files\\Microsoft SQL Server\\150\\Tools\\Binn\\;C:\\Program Files\\Microsoft SQL Server\\150\\DTS\\Binn\\;e:\\pdfkit;C:\\Program Files\\nodejs\\;C:\\Users\\vinodh\\AppData\\Local\\Coursier\\data\\bin;E:\\spark-3.5.1-bin-hadoop3\\bin;e:\\robotlibraries;C:\\Program Files\\MySQL\\MySQL Shell 8.0\\bin\\;C:\\Users\\vinodh\\AppData\\Local\\Microsoft\\WindowsApps;C:\\Users\\vinodh\\AppData\\Local\\Programs\\Microsoft VS Code\\bin;C:\\Program Files\\Azure Data Studio\\bin;C:\\Users\\vinodh\\AppData\\Roaming\\npm;;C:\\Users\\vinodh\\AppData\\Local\\Coursier\\data\\bin;E:\\robotutils\n",
      "e:\\pythonlab\n"
     ]
    }
   ],
   "source": [
    "import os\n",
    "\n",
    "print(os.cpu_count())\n",
    "print(os.getenv(\"PATH\"))\n",
    "print(os.getcwd())"
   ]
  },
  {
   "cell_type": "code",
   "execution_count": 6,
   "metadata": {},
   "outputs": [
    {
     "name": "stdout",
     "output_type": "stream",
     "text": [
      "['.git', 'collection.ipynb', 'dictionary.ipynb', 'first.py', 'firstnote.ipynb', 'for.py', 'functions.ipynb', 'functionsadvanced.ipynb', 'ifcheck.py', 'income.py', 'loop.py', 'moreaboutfun.ipynb', 'osactivities.ipynb', 'regex.ipynb', 'regextnots', 'set.ipynb', 'stringprocessing.ipynb', 'tuple.ipynb', 'userinput.py', 'variable.py']\n"
     ]
    }
   ],
   "source": [
    "result=os.listdir()\n",
    "print(result)"
   ]
  },
  {
   "cell_type": "code",
   "execution_count": null,
   "metadata": {},
   "outputs": [],
   "source": []
  }
 ],
 "metadata": {
  "kernelspec": {
   "display_name": "Python 3",
   "language": "python",
   "name": "python3"
  },
  "language_info": {
   "codemirror_mode": {
    "name": "ipython",
    "version": 3
   },
   "file_extension": ".py",
   "mimetype": "text/x-python",
   "name": "python",
   "nbconvert_exporter": "python",
   "pygments_lexer": "ipython3",
   "version": "3.11.2"
  }
 },
 "nbformat": 4,
 "nbformat_minor": 2
}
