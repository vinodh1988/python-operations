{
 "cells": [
  {
   "cell_type": "code",
   "execution_count": 3,
   "metadata": {},
   "outputs": [
    {
     "name": "stdout",
     "output_type": "stream",
     "text": [
      "135\n",
      "\n",
      "   Python is a great language.\n",
      "   It supports object oriented programming.\n",
      "   Functional Programming.\n",
      "   It is not so difficult to learn.\n",
      "\n",
      "\n",
      "   Python is a great language.\n",
      "   It supports object oriented programming.\n",
      "   Functional Program.\n",
      "   It is not so difficult to learn.\n",
      "\n",
      " is a grea\n",
      "['', '   Python is a great language.', '   It supports object oriented programming.', '   Functional Program.', '   It is not so difficult to learn.', '']\n"
     ]
    }
   ],
   "source": [
    "information=\"\"\"\n",
    "   Python is a great language.\n",
    "   It supports object oriented programming.\n",
    "   Functional Program.\n",
    "   It is not so difficult to learn.\n",
    "\"\"\"\n",
    "\n",
    "print(len(information))\n",
    "print(information.replace(\"Program\",\"Programming\"))\n",
    "print(information)\n",
    "print(information[10:20])\n",
    "print(information.split(\"\\n\"))"
   ]
  }
 ],
 "metadata": {
  "kernelspec": {
   "display_name": "Python 3",
   "language": "python",
   "name": "python3"
  },
  "language_info": {
   "codemirror_mode": {
    "name": "ipython",
    "version": 3
   },
   "file_extension": ".py",
   "mimetype": "text/x-python",
   "name": "python",
   "nbconvert_exporter": "python",
   "pygments_lexer": "ipython3",
   "version": "3.11.2"
  }
 },
 "nbformat": 4,
 "nbformat_minor": 2
}
