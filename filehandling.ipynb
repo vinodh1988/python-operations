{
 "cells": [
  {
   "cell_type": "code",
   "execution_count": 3,
   "metadata": {},
   "outputs": [
    {
     "name": "stdout",
     "output_type": "stream",
     "text": [
      "import shutil\n",
      "import os\n",
      "\n",
      "shutil.copy(\"functions.ipynb\",\"functions/functions.ipynb\")\n",
      "os.system(\"dir\")\n",
      "os.system(\"date\")\n"
     ]
    }
   ],
   "source": [
    "with open(\"filecopy.py\",\"r\") as file:\n",
    "    data=file.read()\n",
    "    print(data)"
   ]
  },
  {
   "cell_type": "code",
   "execution_count": 4,
   "metadata": {},
   "outputs": [],
   "source": [
    "with open(\"logs/info.log\",\"a\") as file:\n",
    "    file.write(\"information written \\n\")\n",
    "    file.write(\"new line written \\n\")"
   ]
  }
 ],
 "metadata": {
  "kernelspec": {
   "display_name": "Python 3",
   "language": "python",
   "name": "python3"
  },
  "language_info": {
   "codemirror_mode": {
    "name": "ipython",
    "version": 3
   },
   "file_extension": ".py",
   "mimetype": "text/x-python",
   "name": "python",
   "nbconvert_exporter": "python",
   "pygments_lexer": "ipython3",
   "version": "3.11.2"
  }
 },
 "nbformat": 4,
 "nbformat_minor": 2
}
