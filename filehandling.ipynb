{
 "cells": [
  {
   "cell_type": "code",
   "execution_count": 3,
   "metadata": {},
   "outputs": [
    {
     "name": "stdout",
     "output_type": "stream",
     "text": [
      "import shutil\n",
      "import os\n",
      "\n",
      "shutil.copy(\"functions.ipynb\",\"functions/functions.ipynb\")\n",
      "os.system(\"dir\")\n",
      "os.system(\"date\")\n"
     ]
    }
   ],
   "source": [
    "with open(\"filecopy.py\",\"r\") as file:\n",
    "    data=file.read()\n",
    "    print(data)"
   ]
  },
  {
   "cell_type": "code",
   "execution_count": 4,
   "metadata": {},
   "outputs": [],
   "source": [
    "with open(\"logs/info.log\",\"a\") as file:\n",
    "    file.write(\"information written \\n\")\n",
    "    file.write(\"new line written \\n\")"
   ]
  },
  {
   "cell_type": "code",
   "execution_count": 7,
   "metadata": {},
   "outputs": [
    {
     "name": "stdout",
     "output_type": "stream",
     "text": [
      "[{'sno': 1, 'name': 'Ravi', 'city': 'Chennai'}, {'sno': 2, 'name': 'Lokesh', 'city': 'Mumbai'}, {'sno': 3, 'name': 'Krishna', 'city': 'Chennai'}]\n",
      "{'sno': 1, 'name': 'Ravi', 'city': 'Chennai'}\n",
      "Ravi\n"
     ]
    }
   ],
   "source": [
    "import json\n",
    "\n",
    "with open(\"people.json\",\"r\") as file:\n",
    "    people=json.load(file)\n",
    "    print(people)\n",
    "    print(people[0])\n",
    "    print(people[0]['name'])"
   ]
  },
  {
   "cell_type": "code",
   "execution_count": 8,
   "metadata": {},
   "outputs": [],
   "source": [
    "import json\n",
    "\n",
    "data = {\"empno\":1 ,\"name\" : \"Johny\", \"Desingation\": \"Manager\",\"salary\":1000}\n",
    "\n",
    "with open(\"emp.json\",\"w\") as file:\n",
    "    json.dump(data,file,indent=4)"
   ]
  },
  {
   "cell_type": "code",
   "execution_count": 9,
   "metadata": {},
   "outputs": [],
   "source": [
    "import yaml\n",
    "\n",
    "data = {\n",
    "    \"name\": \"Adam\",\n",
    "    \"age\": 38,\n",
    "    \"skills\" : [\"Java\",\"SQL\",\"AWS\"],\n",
    "    \"experience\" : [\n",
    "        {\"company\":\"ABC Technologies\",\"technology\":\"Java\",\"years\":3},\n",
    "        {\"company\":\"RK Technologies\",\"technology\":\"SQL\",\"years\":3},\n",
    "        {\"company\":\"NTK Technologies\",\"technology\":\"AWS\",\"years\":3}\n",
    "    ]\n",
    "}\n",
    "\n",
    "with open(\"profile.yml\",\"w\") as file:\n",
    "    yaml.dump(data,file)"
   ]
  },
  {
   "cell_type": "code",
   "execution_count": 10,
   "metadata": {},
   "outputs": [
    {
     "name": "stdout",
     "output_type": "stream",
     "text": [
      "{'age': 38, 'experience': [{'company': 'ABC Technologies', 'technology': 'Java', 'years': 3}, {'company': 'RK Technologies', 'technology': 'SQL', 'years': 3}, {'company': 'NTK Technologies', 'technology': 'AWS', 'years': 3}], 'name': 'Adam', 'skills': ['Java', 'SQL', 'AWS']}\n"
     ]
    }
   ],
   "source": [
    "with open(\"profile.yml\",\"r\") as file:\n",
    "    data=yaml.safe_load(file)\n",
    "    print(data)"
   ]
  }
 ],
 "metadata": {
  "kernelspec": {
   "display_name": "Python 3",
   "language": "python",
   "name": "python3"
  },
  "language_info": {
   "codemirror_mode": {
    "name": "ipython",
    "version": 3
   },
   "file_extension": ".py",
   "mimetype": "text/x-python",
   "name": "python",
   "nbconvert_exporter": "python",
   "pygments_lexer": "ipython3",
   "version": "3.11.2"
  }
 },
 "nbformat": 4,
 "nbformat_minor": 2
}
