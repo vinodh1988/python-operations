{
 "cells": [
  {
   "cell_type": "code",
   "execution_count": 3,
   "metadata": {},
   "outputs": [],
   "source": [
    "class Employee:\n",
    "    def __init__(self,sno,name,city) -> None:\n",
    "        self.sno=sno\n",
    "        self.name=name\n",
    "        self.city=city\n",
    "    \n",
    "    def show(self):\n",
    "        print(f\"sno: {self.sno} name: {self.name} city: {self.city}\")"
   ]
  },
  {
   "cell_type": "code",
   "execution_count": 4,
   "metadata": {},
   "outputs": [
    {
     "name": "stdout",
     "output_type": "stream",
     "text": [
      "sno: 1 name: Rohan city: Chennai\n",
      "sno: 2 name: Praveen city: Mumbai\n"
     ]
    }
   ],
   "source": [
    "emp1=Employee(1,\"Rohan\",\"Chennai\")\n",
    "emp2=Employee(2,\"Praveen\",\"Mumbai\")\n",
    "emp1.show()\n",
    "emp2.show()"
   ]
  }
 ],
 "metadata": {
  "kernelspec": {
   "display_name": "Python 3",
   "language": "python",
   "name": "python3"
  },
  "language_info": {
   "codemirror_mode": {
    "name": "ipython",
    "version": 3
   },
   "file_extension": ".py",
   "mimetype": "text/x-python",
   "name": "python",
   "nbconvert_exporter": "python",
   "pygments_lexer": "ipython3",
   "version": "3.11.2"
  }
 },
 "nbformat": 4,
 "nbformat_minor": 2
}
