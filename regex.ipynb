{
 "cells": [
  {
   "cell_type": "code",
   "execution_count": 14,
   "metadata": {},
   "outputs": [],
   "source": [
    "source=[\n",
    "    \"Ram\",\"Rahim\",\"Arjun\",\"Lokesh\",\"Naveen\",\n",
    "    \"Source\",\"Objective\",\"Eat\",\"Ate\",\"Pin\",\"Pan\",\n",
    "    \"Rock\",\"vin@gmail.com\",\"Rock134\",\"Store3543\",\n",
    "    \"Pattern3438\",\"allsmall\",\"verysmall\",\"pen\",\"tin\",\n",
    "    \"earth@gmail.com\",\"earth_353@gmail.com\",\"fourty@gmail\",\n",
    "    \"strong\",\"CoreJava\",\"nation\",\"Snail\",\"Rip\",\"Rest\",\"test\"\n",
    "    \"Cool\",\"Spoiler\",\"This is a sentence\",\"Earth is spherical\",\n",
    "    \"Earth is a planet\",\"Ocean contains salt water\",\"123\",\"535\",\"t01\",\"so\",\n",
    "    \"is\",\"in\",\"s353m\"\n",
    "]"
   ]
  },
  {
   "cell_type": "code",
   "execution_count": 3,
   "metadata": {},
   "outputs": [
    {
     "name": "stdout",
     "output_type": "stream",
     "text": [
      "Ram\n",
      "Rahim\n",
      "Rock\n",
      "Rock134\n",
      "Rip\n",
      "Rest\n"
     ]
    }
   ],
   "source": [
    "import re\n",
    "\n",
    "pattern =\"^R\"\n",
    "\n",
    "for x in source:\n",
    "    if re.search(pattern,x):\n",
    "        print(x)\n",
    "\n"
   ]
  },
  {
   "cell_type": "code",
   "execution_count": 4,
   "metadata": {},
   "outputs": [
    {
     "name": "stdout",
     "output_type": "stream",
     "text": [
      "Arjun\n",
      "Naveen\n",
      "Pin\n",
      "Pan\n",
      "pen\n",
      "tin\n",
      "nation\n"
     ]
    }
   ],
   "source": [
    "pattern =\"n$\"\n",
    "\n",
    "for x in source:\n",
    "    if re.search(pattern,x):\n",
    "        print(x)"
   ]
  },
  {
   "cell_type": "code",
   "execution_count": 6,
   "metadata": {},
   "outputs": [
    {
     "name": "stdout",
     "output_type": "stream",
     "text": [
      "Ram\n",
      "Eat\n",
      "Ate\n",
      "Pin\n",
      "Pan\n",
      "pen\n",
      "tin\n",
      "Rip\n",
      "123\n",
      "535\n",
      "t01\n"
     ]
    }
   ],
   "source": [
    "import re\n",
    "\n",
    "pattern =\"^...$\"\n",
    "\n",
    "for x in source:\n",
    "    if re.search(pattern,x):\n",
    "        print(x)"
   ]
  },
  {
   "cell_type": "code",
   "execution_count": 8,
   "metadata": {},
   "outputs": [
    {
     "name": "stdout",
     "output_type": "stream",
     "text": [
      "Arjun\n",
      "Objective\n",
      "Ate\n",
      "Store3543\n",
      "Snail\n",
      "Spoiler\n",
      "This is a sentence\n",
      "Ocean contains salt water\n"
     ]
    }
   ],
   "source": [
    "import re\n",
    "\n",
    "pattern =\"^[A-Z][^aeiou]\"\n",
    "\n",
    "for x in source:\n",
    "    if re.search(pattern,x):\n",
    "        print(x)"
   ]
  },
  {
   "cell_type": "code",
   "execution_count": 16,
   "metadata": {},
   "outputs": [
    {
     "name": "stdout",
     "output_type": "stream",
     "text": [
      "Ram\n",
      "Rahim\n",
      "Arjun\n",
      "Lokesh\n",
      "Naveen\n",
      "Source\n",
      "Objective\n",
      "Eat\n",
      "Ate\n",
      "Pin\n",
      "Pan\n",
      "Rock\n",
      "allsmall\n",
      "verysmall\n",
      "pen\n",
      "tin\n",
      "strong\n",
      "nation\n",
      "Snail\n",
      "Rip\n",
      "Rest\n",
      "Spoiler\n",
      "so\n",
      "is\n",
      "in\n"
     ]
    }
   ],
   "source": [
    "import re\n",
    "\n",
    "pattern =\"^[A-Za-z][a-z]*[A-Za-z]$\"\n",
    "\n",
    "for x in source:\n",
    "    if re.search(pattern,x):\n",
    "        print(x)"
   ]
  },
  {
   "cell_type": "code",
   "execution_count": 17,
   "metadata": {},
   "outputs": [
    {
     "name": "stdout",
     "output_type": "stream",
     "text": [
      "Rahim\n",
      "Arjun\n",
      "Snail\n"
     ]
    }
   ],
   "source": [
    "import re\n",
    "\n",
    "pattern =\"^[A-Za-z][a-z]{3}[A-Za-z]$\"\n",
    "\n",
    "for x in source:\n",
    "    if re.search(pattern,x):\n",
    "        print(x)"
   ]
  }
 ],
 "metadata": {
  "kernelspec": {
   "display_name": "Python 3",
   "language": "python",
   "name": "python3"
  },
  "language_info": {
   "codemirror_mode": {
    "name": "ipython",
    "version": 3
   },
   "file_extension": ".py",
   "mimetype": "text/x-python",
   "name": "python",
   "nbconvert_exporter": "python",
   "pygments_lexer": "ipython3",
   "version": "3.11.2"
  }
 },
 "nbformat": 4,
 "nbformat_minor": 2
}
